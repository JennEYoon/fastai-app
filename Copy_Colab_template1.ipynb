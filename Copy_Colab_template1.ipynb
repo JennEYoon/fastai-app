{
  "nbformat": 4,
  "nbformat_minor": 0,
  "metadata": {
    "colab": {
      "name": "Copy Colab_template1.ipynb",
      "provenance": [],
      "collapsed_sections": [],
      "mount_file_id": "1EQy5ccg7yCGJCLFPkr0jfD_De1NIprrz",
      "authorship_tag": "ABX9TyOAiY+u8Zq4gzksdK0kD/ji",
      "include_colab_link": true
    },
    "kernelspec": {
      "name": "python3",
      "display_name": "Python 3"
    },
    "accelerator": "GPU"
  },
  "cells": [
    {
      "cell_type": "markdown",
      "metadata": {
        "id": "view-in-github",
        "colab_type": "text"
      },
      "source": [
        "<a href=\"https://colab.research.google.com/github/JennEYoon/fastai-app/blob/main/Copy_Colab_template1.ipynb\" target=\"_parent\"><img src=\"https://colab.research.google.com/assets/colab-badge.svg\" alt=\"Open In Colab\"/></a>"
      ]
    },
    {
      "cell_type": "markdown",
      "metadata": {
        "id": "Lx6lZufy143A"
      },
      "source": [
        "### Memo:  \r\n"
      ]
    },
    {
      "cell_type": "markdown",
      "metadata": {
        "id": "oQ3VS-RO1S2D"
      },
      "source": [
        "### Section 0: Setup cells, for using Colab Server environment"
      ]
    },
    {
      "cell_type": "code",
      "metadata": {
        "id": "1WZnKbsezxTf"
      },
      "source": [
        "# fastbook import, only works on GPU Cuda.  \r\n",
        "# Mounts Google Drive. \r\n",
        "\r\n",
        "#hide\r\n",
        "!pip install -Uqq fastbook\r\n",
        "import fastbook\r\n",
        "fastbook.setup_book()"
      ],
      "execution_count": null,
      "outputs": []
    },
    {
      "cell_type": "code",
      "metadata": {
        "id": "4ZUjqSw4zygj"
      },
      "source": [
        "#hide\r\n",
        "from fastbook import *\r\n",
        "print(fastbook)"
      ],
      "execution_count": null,
      "outputs": []
    },
    {
      "cell_type": "code",
      "metadata": {
        "colab": {
          "base_uri": "https://localhost:8080/"
        },
        "id": "0uTl1hu51MvM",
        "outputId": "f297f970-ec7d-4f44-f77f-f02b88d147a6"
      },
      "source": [
        "# Or mount google drive separately.  \r\n",
        "from google.colab import drive\r\n",
        "drive.mount('/content/gdrive', force_remount=True)\r\n",
        "!ls\r\n"
      ],
      "execution_count": 1,
      "outputs": [
        {
          "output_type": "stream",
          "text": [
            "Mounted at /content/gdrive\n",
            "gdrive\tsample_data\n"
          ],
          "name": "stdout"
        }
      ]
    },
    {
      "cell_type": "code",
      "metadata": {
        "colab": {
          "base_uri": "https://localhost:8080/"
        },
        "id": "dFmv7kyT1NKv",
        "outputId": "a98e2571-fdf2-4334-e5c2-f0bfd03e557a"
      },
      "source": [
        "#!mkdir /content/gdrive/MyDrive/Colab\\ Notebooks/fastai/temp\r\n",
        "!ls /content/gdrive/MyDrive/Colab\\ Notebooks/"
      ],
      "execution_count": null,
      "outputs": [
        {
          "output_type": "stream",
          "text": [
            " Colab_full_14_resnet.ipynb    'Copy of Colab_full_14_resnet.ipynb'\n",
            " _Colab_template1.ipynb        'Copy of hello-world.ipynb'\n",
            "'Copy of 01_intro (1).ipynb'    fastai\n",
            "'Copy of 01_intro.ipynb'        fastai-nb1.ipynb\n",
            "'Copy of 05_pet_breeds.ipynb'   foo2.txt\n",
            "'Copy of 14_resnet.ipynb'       newdir\n",
            "'Copy of app_jupyter.ipynb'     Untitled0.ipynb\n"
          ],
          "name": "stdout"
        }
      ]
    },
    {
      "cell_type": "code",
      "metadata": {
        "id": "xQ7cS8YF27Bu",
        "colab": {
          "base_uri": "https://localhost:8080/"
        },
        "outputId": "f97f0494-e397-4ae0-8d95-ce1e7ed05956"
      },
      "source": [
        "!ls /content/gdrive/MyDrive/Colab\\ Notebooks/fastai/"
      ],
      "execution_count": 2,
      "outputs": [
        {
          "output_type": "stream",
          "text": [
            "temp\n"
          ],
          "name": "stdout"
        }
      ]
    },
    {
      "cell_type": "code",
      "metadata": {
        "colab": {
          "base_uri": "https://localhost:8080/"
        },
        "id": "_zOn7mpZzykR",
        "outputId": "f5fb3e6b-86b1-4fc6-a76e-05e4368ca548"
      },
      "source": [
        "# Accessing path with space in it.  \r\n",
        "# Escape \"\\\" or enclose inside string, string = 'My/Dir/path with space', \r\n",
        "# but not both. \r\n",
        "\r\n",
        "dest = '/content/gdrive/MyDrive/Colab Notebooks/fastai/temp' \r\n",
        "with open(dest + 'test.txt', 'w') as f: \r\n",
        "    f.write(\"Hello, there!\\n\")\r\n",
        "    f.write(\"This is line 2, testing path in Colab Notebooks.\\n\")\r\n",
        "    f.write(\"End, Good bye.\")\r\n",
        "    \r\n",
        "f = open(dest + 'test.txt', 'r')    \r\n",
        "print(f.read())"
      ],
      "execution_count": 3,
      "outputs": [
        {
          "output_type": "stream",
          "text": [
            "Hello, there!\n",
            "This is line 2, testing path in Colab Notebooks.\n",
            "End, Good bye.\n"
          ],
          "name": "stdout"
        }
      ]
    },
    {
      "cell_type": "code",
      "metadata": {
        "id": "oNIvJUSC28Cj",
        "colab": {
          "base_uri": "https://localhost:8080/"
        },
        "outputId": "3e959145-1fa7-406f-cc89-d1f0ee644dce"
      },
      "source": [
        "# To delete folder, us \"import os\" and os.rmdir('file/path/file.txt')\r\n",
        "import os \r\n",
        "!mkdir testdir2 \r\n",
        "!ls\r\n"
      ],
      "execution_count": 4,
      "outputs": [
        {
          "output_type": "stream",
          "text": [
            "gdrive\tsample_data  testdir2\n"
          ],
          "name": "stdout"
        }
      ]
    },
    {
      "cell_type": "code",
      "metadata": {
        "id": "QD9-uEPY28HN",
        "colab": {
          "base_uri": "https://localhost:8080/"
        },
        "outputId": "7db00cc8-ecdb-4030-e990-854f67844b1a"
      },
      "source": [
        "os.rmdir('testdir2')\r\n",
        "!ls"
      ],
      "execution_count": 5,
      "outputs": [
        {
          "output_type": "stream",
          "text": [
            "gdrive\tsample_data\n"
          ],
          "name": "stdout"
        }
      ]
    },
    {
      "cell_type": "code",
      "metadata": {
        "id": "VaTgV1iO28QF"
      },
      "source": [
        ""
      ],
      "execution_count": null,
      "outputs": []
    },
    {
      "cell_type": "markdown",
      "metadata": {
        "id": "24C_1VQO8b8d"
      },
      "source": [
        "### fastai load fastbook, setup  "
      ]
    },
    {
      "cell_type": "code",
      "metadata": {
        "id": "_OnJ_yXL1BRd",
        "colab": {
          "base_uri": "https://localhost:8080/"
        },
        "outputId": "bce15298-8791-4059-c94d-f0719549d1f1"
      },
      "source": [
        "# First change runtime to GPU, on Colab server\r\n",
        "# Remove # on !pip install line. \r\n",
        "!pip install -Uqq fastbook\r\n",
        "import fastbook\r\n",
        "fastbook.setup_book()"
      ],
      "execution_count": 1,
      "outputs": [
        {
          "output_type": "stream",
          "text": [
            "\u001b[K     |████████████████████████████████| 727kB 8.1MB/s \n",
            "\u001b[K     |████████████████████████████████| 1.2MB 17.0MB/s \n",
            "\u001b[K     |████████████████████████████████| 194kB 17.9MB/s \n",
            "\u001b[K     |████████████████████████████████| 51kB 6.0MB/s \n",
            "\u001b[K     |████████████████████████████████| 61kB 7.5MB/s \n",
            "\u001b[?25hMounted at /content/gdrive\n"
          ],
          "name": "stdout"
        }
      ]
    },
    {
      "cell_type": "code",
      "metadata": {
        "id": "wBDofH7izyoK"
      },
      "source": [
        "# Import book contents \r\n",
        "from fastbook import *\r\n",
        "from fastai.vision.widgets import *"
      ],
      "execution_count": 2,
      "outputs": []
    },
    {
      "cell_type": "code",
      "metadata": {
        "id": "Bh0tKfXjzysP",
        "colab": {
          "base_uri": "https://localhost:8080/"
        },
        "outputId": "0445676c-e3a5-4594-dfdc-7ab91a52efb9"
      },
      "source": [
        "fastbook"
      ],
      "execution_count": 9,
      "outputs": [
        {
          "output_type": "execute_result",
          "data": {
            "text/plain": [
              "<module 'fastbook' from '/usr/local/lib/python3.6/dist-packages/fastbook/__init__.py'>"
            ]
          },
          "metadata": {
            "tags": []
          },
          "execution_count": 9
        }
      ]
    },
    {
      "cell_type": "code",
      "metadata": {
        "id": "osYXfYgKzywa"
      },
      "source": [
        "Path?\r\n",
        "\"\"\"\r\n",
        "Init signature: Path(*args, **kwargs)\r\n",
        "PurePath subclass that can make system calls.\r\n",
        "File:           /usr/lib/python3.6/pathlib.py \r\n",
        "\r\n",
        "Command is part of Python 3.6 built-in library \"pathlib.py\". \r\n",
        "\"\"\""
      ],
      "execution_count": 11,
      "outputs": []
    },
    {
      "cell_type": "code",
      "metadata": {
        "id": "Y16WsGCnzy0n"
      },
      "source": [
        ""
      ],
      "execution_count": null,
      "outputs": []
    },
    {
      "cell_type": "code",
      "metadata": {
        "id": "JdxPfQlFzy46"
      },
      "source": [
        ""
      ],
      "execution_count": null,
      "outputs": []
    },
    {
      "cell_type": "code",
      "metadata": {
        "id": "0VMDRZQlzy88"
      },
      "source": [
        ""
      ],
      "execution_count": null,
      "outputs": []
    },
    {
      "cell_type": "code",
      "metadata": {
        "id": "eJ3g4MnEzzD7"
      },
      "source": [
        ""
      ],
      "execution_count": null,
      "outputs": []
    },
    {
      "cell_type": "code",
      "metadata": {
        "id": "N5UNTv0OzzLO"
      },
      "source": [
        ""
      ],
      "execution_count": null,
      "outputs": []
    },
    {
      "cell_type": "code",
      "metadata": {
        "id": "HH9Xk1VPzzPO"
      },
      "source": [
        ""
      ],
      "execution_count": null,
      "outputs": []
    },
    {
      "cell_type": "code",
      "metadata": {
        "id": "uD_IjASNz0PK"
      },
      "source": [
        ""
      ],
      "execution_count": null,
      "outputs": []
    }
  ]
}